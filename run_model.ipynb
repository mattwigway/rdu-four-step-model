{
  "cells": [
    {
      "cell_type": "markdown",
      "metadata": {
        "id": "0KXzdSd_85qf"
      },
      "source": [
        "This R \"notebook\" contains a complete (albeit highly simplified, and probably not very good for planning purposes) four-step model for the central Research Triangle region (Orange, Durham, and Wake counties), North Carolina.\n",
        "\n",
        "First, we need to run some R code to set up the modeling system. This will likely take several minutes."
      ]
    },
    {
      "cell_type": "code",
      "execution_count": null,
      "metadata": {
        "id": "ZlkKdPsE85qg",
        "vscode": {
          "languageId": "r"
        }
      },
      "outputs": [],
      "source": [
        "system(\"git clone https://github.com/mattwigway/rdu-four-step-model.git\")\n",
        "setwd(\"rdu-four-step-model\")\n",
        "source(\"setup.R\")"
      ]
    },
    {
      "cell_type": "markdown",
      "metadata": {
        "id": "qakKa8uP85qg"
      },
      "source": [
        "Next, we need to load the model itself."
      ]
    },
    {
      "cell_type": "code",
      "execution_count": null,
      "metadata": {
        "id": "utEf9zVW85qg",
        "vscode": {
          "languageId": "r"
        }
      },
      "outputs": [],
      "source": [
        "model = load_model(\"rdu.model\")"
      ]
    },
    {
      "cell_type": "markdown",
      "metadata": {
        "id": "Ihpv7HJ385qh"
      },
      "source": [
        "The model requires a land use scenario as well. We load that here. The land use scenario is just an Excel sheet with the total number of households of different types (e.g. levels of vehicle ownership, income) in each Census tract, the number of jobs in each Census tract, and the locations of the Census tracts.\n",
        "\n",
        "In many four-step models, a custom set of Transportation Analysis Zones (TAZs) is used; in this model, our TAZs are just Census tracts.\n",
        "\n",
        "I have provided several land use scenarios:\n",
        "    - `baseline.xlsx` - This is the baseline (current conditions)\n",
        "    - `projected.xlsx` - This is the 2030 projected scenario, based roughly on our demographic projections from a few weeks back\n",
        "    - `compact.xlsx` - This is a 2030 projected scenario where growth is concentrated in downtown Durham, Raleigh, and Chapel Hill\n",
        "\n",
        "By changing the R code below, you can change what scenario is loaded."
      ]
    },
    {
      "cell_type": "code",
      "execution_count": null,
      "metadata": {
        "id": "JVkQLC9e85qh",
        "vscode": {
          "languageId": "r"
        }
      },
      "outputs": [],
      "source": [
        "landuse = load_landuse_scenario(\"baseline.xlsx\")"
      ]
    },
    {
      "cell_type": "markdown",
      "metadata": {
        "id": "UV_MSuEZ85qh"
      },
      "source": [
        "## Trip generation\n",
        "\n",
        "The first step of the four-step model is trip generation. Here, we generate the productions (number of trips taken by households in each tract) and attractions (number of trips that go to a particular tract). There are different models by trip type (Home-Based Work, Home-Based Other, and Non-Home-Based) and time period (AM Peak, midday, PM Peak, overnight); to give you an idea of what these models look like, we print out two of them before we run the trip generation function.\n",
        "\n",
        "### Production model, AM Peak home-based work trips"
      ]
    },
    {
      "cell_type": "code",
      "execution_count": null,
      "metadata": {
        "id": "cWlebGv-85qh",
        "vscode": {
          "languageId": "r"
        }
      },
      "outputs": [],
      "source": [
        "summary(model$production_functions$`AM Peak`$HBW)"
      ]
    },
    {
      "cell_type": "markdown",
      "metadata": {
        "id": "RPx1KP4985qi"
      },
      "source": [
        "### Attraction model, AM Peak home-based work trips"
      ]
    },
    {
      "cell_type": "code",
      "execution_count": null,
      "metadata": {
        "id": "PbZ9ZTlF85qi",
        "vscode": {
          "languageId": "r"
        }
      },
      "outputs": [],
      "source": [
        "summary(model$attraction_functions$`AM Peak`$HBW)"
      ]
    },
    {
      "cell_type": "markdown",
      "metadata": {
        "id": "lQn98_9i85qi"
      },
      "source": [
        "### Running trip generation\n",
        "\n",
        "Here, we run the trip generation model. This takes a few minutes to run. We save the result in a variable called `trip_ends`, because we have the ends of the trips, but we don't know which productions are associated with which attractions."
      ]
    },
    {
      "cell_type": "code",
      "execution_count": null,
      "metadata": {
        "id": "LHW3StHd85qi",
        "vscode": {
          "languageId": "r"
        }
      },
      "outputs": [],
      "source": [
        "trip_ends = trip_generation(model, landuse)"
      ]
    },
    {
      "cell_type": "markdown",
      "metadata": {
        "id": "Q8DVdX9y85qi"
      },
      "source": [
        "We can map how many trips are generated in different locations, by trip type and time of day."
      ]
    },
    {
      "cell_type": "code",
      "execution_count": null,
      "metadata": {
        "id": "nE_sE5Xj85qi",
        "vscode": {
          "languageId": "r"
        }
      },
      "outputs": [],
      "source": [
        "map_trip_generation(trip_ends$productions, \"AM Peak\", \"HBW\")"
      ]
    },
    {
      "cell_type": "markdown",
      "metadata": {
        "id": "a_faNdLq85qi"
      },
      "source": [
        "Since there are no other other features on this map, it's a bit hard to read, but by comparing with other maps of the region you can clearly see that the highest densities of trips are generated by the three major cities: Raleigh, Durham, and Chapel Hill, with lower densities generated by suburban areas and the lowest densities by rural areas.\n",
        "\n",
        "We can similarly map attractions:"
      ]
    },
    {
      "cell_type": "code",
      "execution_count": null,
      "metadata": {
        "id": "x1_fT6_285qi",
        "vscode": {
          "languageId": "r"
        }
      },
      "outputs": [],
      "source": [
        "map_trip_generation(trip_ends$attractions, \"AM Peak\", \"HBW\")"
      ]
    },
    {
      "cell_type": "markdown",
      "metadata": {
        "id": "O4qJgeJV85qi"
      },
      "source": [
        "As one might expect, the trip attractions for work trips are more concentrated---there are fewer \"hotspots,\" but they attract many more trips per square kilometer—downtown Raleigh in particular, but UNC's campus is also visible.\n",
        "\n",
        "## Trip distribution\n",
        "\n",
        "After the trip generation step, we have the number of trips produces in each zone and attracted to each zone, but we don't know which trips from zone A go to zone B. That is the job of the trip distribution step. In this model, a gravity function is used to distribute trips; trips are more likely to go to destinations with higher attractiveness, but less likely to go to destinations far away. How far away is controlled by the power in the gravity function. Since people may be willing to travel different amounts for different purposes, we estimate separate powers for each of our three trip types. The powers are shown below:"
      ]
    },
    {
      "cell_type": "code",
      "execution_count": null,
      "metadata": {
        "id": "BKnP4ETt85qi",
        "vscode": {
          "languageId": "r"
        }
      },
      "outputs": [],
      "source": [
        "model$distribution_betas"
      ]
    },
    {
      "cell_type": "markdown",
      "metadata": {
        "id": "6of4lqTg85qi"
      },
      "source": [
        "Now, we can run the trip distribution step. The result is a table of how many trips of each type occur between each pair of tracts at each time period."
      ]
    },
    {
      "cell_type": "code",
      "execution_count": null,
      "metadata": {
        "id": "Ab5Ev-Nu85qk",
        "vscode": {
          "languageId": "r"
        }
      },
      "outputs": [],
      "source": [
        "flows = trip_distribution(model, landuse, trip_ends)"
      ]
    },
    {
      "cell_type": "markdown",
      "metadata": {
        "id": "czC0UTAG85qk"
      },
      "source": [
        "The trip distribution step is harder to map, because we have a number of trips for every _pair_ of tracts. We'll map the trips originating in Orange County tract 107.05, which is where our Plan 720 Towers apartment project is going to be located in Carrboro (shown in blue). Feel free to experiment with changing the origin tract to where you live, or anywhere else. You can find the Census tract by searching for an address on [Census Reporter](https://censusreporter.org)"
      ]
    },
    {
      "cell_type": "code",
      "execution_count": null,
      "metadata": {
        "id": "Poj0gP5285qk",
        "vscode": {
          "languageId": "r"
        }
      },
      "outputs": [],
      "source": [
        "map_trip_distribution(flows, \"AM Peak\", \"HBW\", origin_tract=\"37135010705\")"
      ]
    },
    {
      "cell_type": "markdown",
      "metadata": {
        "id": "W1Cat5CW85qk"
      },
      "source": [
        "As expected, many people are expected to travel to workplaces that are local. But we also see significant travel to downtown Raleigh, Duke Hospital, and Research Triangle Park—these are far away but have a lot of attractions.\n",
        "\n",
        "## Mode choice\n",
        "\n",
        "We have now forecasted how many trips will flow between each pair of tracts, by type and time period. However, we don't know what mode they will use. This is the function of the mode choice model. This model actually has two mode choice models—one for home-based work/other trips and one for non-home-based trips. The reason for this is that the home-based trip model can use information about the home location to improve the model fit. Here is the mode choice model for non-home-based trips."
      ]
    },
    {
      "cell_type": "code",
      "execution_count": null,
      "metadata": {
        "id": "-RLsAZ2Z85qk",
        "vscode": {
          "languageId": "r"
        }
      },
      "outputs": [],
      "source": [
        "summary(model$mode_choice_models$HB)"
      ]
    },
    {
      "cell_type": "markdown",
      "metadata": {
        "id": "CrYChw6h85qk"
      },
      "source": [
        "Now, we can apply the mode choice model."
      ]
    },
    {
      "cell_type": "code",
      "execution_count": null,
      "metadata": {
        "id": "DPbxgwew85qk",
        "vscode": {
          "languageId": "r"
        }
      },
      "outputs": [],
      "source": [
        "flows_by_mode = mode_choice(model, landuse, flows)"
      ]
    },
    {
      "cell_type": "markdown",
      "metadata": {
        "id": "ScbM29z885qk"
      },
      "source": [
        "## Network assignemnt/route choice\n",
        "\n",
        "The last step is to assign the auto trips to the network. Right now, we have forecasted origins, destinations, and modes, but we don't know what roads they use. Often, the two model outputs with the most significant policy implications are congestion levels and emissions. Both require network assignment. Evaluating emissions is beyond the scope of this lesson (if you're interested, check out the [EPA MOVES](https://www.epa.gov/moves) model), but we will model congestion.\n",
        "\n",
        "In some models, generally in regions where there is much higher transit usage than here in the Research Triangle, there is also a network assignment process for transit.\n",
        "\n",
        "This model uses an iterative network assignment process known as the Frank-Wolfe algorithm. Running the cell below will assign the forecasted PM Peak trips to the network. This is the most computationally intensive part of the process; it will probably take about 5–10 minutes. As the model runs, it will print out its progress using a metric known as \"relative gap\"—when it falls below 0.01, the model is finished (this metric is not something you need to remember or know the definition of, but just a tip so you can get a sense of how much longer you have to wait)."
      ]
    },
    {
      "cell_type": "code",
      "execution_count": null,
      "metadata": {
        "id": "L3O7KWti85qk",
        "vscode": {
          "languageId": "r"
        }
      },
      "outputs": [],
      "source": [
        "pm_network_flows = network_assignment(model, landuse, flows_by_mode, \"PM Peak\")"
      ]
    },
    {
      "cell_type": "markdown",
      "metadata": {
        "id": "uMXbLQiy85qk"
      },
      "source": [
        "We can map congestion levels based on this data."
      ]
    },
    {
      "cell_type": "code",
      "execution_count": null,
      "metadata": {
        "id": "F-nq46fU85qk",
        "vscode": {
          "languageId": "r"
        }
      },
      "outputs": [],
      "source": [
        "map_congestion(pm_network_flows, model)"
      ]
    },
    {
      "cell_type": "markdown",
      "metadata": {
        "id": "DdnylcrV85qk"
      },
      "source": [
        "This does look like more congestion than I would expect from living here; there are likely inaccuracies in the simple model we're using that would need to be calibrated to match reality if we were actually using it for forecasting."
      ]
    }
  ],
  "metadata": {
    "colab": {
      "provenance": []
    },
    "kernelspec": {
      "display_name": "R",
      "name": "ir"
    },
    "language_info": {
      "name": "R"
    }
  },
  "nbformat": 4,
  "nbformat_minor": 0
}
